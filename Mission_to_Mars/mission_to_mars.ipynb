{
 "cells": [
  {
   "cell_type": "code",
   "execution_count": 1,
   "id": "516b12cd",
   "metadata": {},
   "outputs": [],
   "source": [
    "from flask import Flask, render_template, redirect\n",
    "from flask_pymongo import PyMongo\n",
    "from splinter import Browser\n",
    "from bs4 import BeautifulSoup as bs\n",
    "import time\n",
    "from webdriver_manager.chrome import ChromeDriverManager\n",
    "import requests\n",
    "import pandas as pd\n"
   ]
  },
  {
   "cell_type": "code",
   "execution_count": 2,
   "id": "13b877fa",
   "metadata": {
    "scrolled": true
   },
   "outputs": [],
   "source": [
    "executable_path = {'executable_path': 'chromedriver'}\n",
    "browser = Browser('chrome', **executable_path, headless=False)"
   ]
  },
  {
   "cell_type": "code",
   "execution_count": 3,
   "id": "ebfb6eb6",
   "metadata": {},
   "outputs": [],
   "source": [
    "url = \"https://redplanetscience.com/\"\n",
    "browser.visit(url)\n",
    "html = browser.html\n",
    "soup = bs(html, \"html.parser\")"
   ]
  },
  {
   "cell_type": "code",
   "execution_count": 4,
   "id": "371f6c06",
   "metadata": {
    "scrolled": false
   },
   "outputs": [],
   "source": [
    "# print(soup.prettify())"
   ]
  },
  {
   "cell_type": "code",
   "execution_count": 5,
   "id": "4297bff2",
   "metadata": {},
   "outputs": [
    {
     "name": "stdout",
     "output_type": "stream",
     "text": [
      "How NASA's Mars Helicopter Will Reach the Red Planet's Surface\n",
      "The small craft will seek to prove that powered, controlled flight is possible on another planet. But just getting it onto the surface of Mars will take a whole lot of ingenuity.\n"
     ]
    }
   ],
   "source": [
    "#NASA Mars News\n",
    "titles = soup.find('div', class_=\"content_title\")\n",
    "paragraphs = soup.find('div', class_=\"article_teaser_body\")\n",
    "news_title = titles.text.strip()\n",
    "news_p = paragraphs.text.strip()\n",
    "print(f'{news_title}\\n{news_p}')"
   ]
  },
  {
   "cell_type": "code",
   "execution_count": 6,
   "id": "205738c8",
   "metadata": {},
   "outputs": [],
   "source": [
    "#JPL Mars Space Image\n",
    "browser = Browser('chrome', **executable_path, headless=False)\n",
    "url2 = \"https://spaceimages-mars.com/\"\n",
    "browser.visit(url2)\n",
    "html = browser.html\n",
    "soup2 = bs(html,\"html.parser\")"
   ]
  },
  {
   "cell_type": "code",
   "execution_count": 7,
   "id": "537d195e",
   "metadata": {},
   "outputs": [
    {
     "data": {
      "text/plain": [
       "'https://spaceimages-mars.com/image/featured/mars1.jpg'"
      ]
     },
     "execution_count": 7,
     "metadata": {},
     "output_type": "execute_result"
    }
   ],
   "source": [
    "# print(soup.prettify())\n",
    "image=soup2.find('img',class_=\"headerimage fade-in\").get('src')\n",
    "featured_image_url = url2+image\n",
    "featured_image_url"
   ]
  },
  {
   "cell_type": "code",
   "execution_count": 8,
   "id": "cc8869bc",
   "metadata": {},
   "outputs": [
    {
     "data": {
      "text/html": [
       "<div>\n",
       "<style scoped>\n",
       "    .dataframe tbody tr th:only-of-type {\n",
       "        vertical-align: middle;\n",
       "    }\n",
       "\n",
       "    .dataframe tbody tr th {\n",
       "        vertical-align: top;\n",
       "    }\n",
       "\n",
       "    .dataframe thead th {\n",
       "        text-align: right;\n",
       "    }\n",
       "</style>\n",
       "<table border=\"1\" class=\"dataframe\">\n",
       "  <thead>\n",
       "    <tr style=\"text-align: right;\">\n",
       "      <th></th>\n",
       "      <th>Mars</th>\n",
       "      <th>Earth</th>\n",
       "    </tr>\n",
       "    <tr>\n",
       "      <th>Mars - Earth Comparison</th>\n",
       "      <th></th>\n",
       "      <th></th>\n",
       "    </tr>\n",
       "  </thead>\n",
       "  <tbody>\n",
       "    <tr>\n",
       "      <th>Diameter:</th>\n",
       "      <td>6,779 km</td>\n",
       "      <td>12,742 km</td>\n",
       "    </tr>\n",
       "    <tr>\n",
       "      <th>Mass:</th>\n",
       "      <td>6.39 × 10^23 kg</td>\n",
       "      <td>5.97 × 10^24 kg</td>\n",
       "    </tr>\n",
       "    <tr>\n",
       "      <th>Moons:</th>\n",
       "      <td>2</td>\n",
       "      <td>1</td>\n",
       "    </tr>\n",
       "    <tr>\n",
       "      <th>Distance from Sun:</th>\n",
       "      <td>227,943,824 km</td>\n",
       "      <td>149,598,262 km</td>\n",
       "    </tr>\n",
       "    <tr>\n",
       "      <th>Length of Year:</th>\n",
       "      <td>687 Earth days</td>\n",
       "      <td>365.24 days</td>\n",
       "    </tr>\n",
       "    <tr>\n",
       "      <th>Temperature:</th>\n",
       "      <td>-87 to -5 °C</td>\n",
       "      <td>-88 to 58°C</td>\n",
       "    </tr>\n",
       "    <tr>\n",
       "      <th>Polar Diameter:</th>\n",
       "      <td>6,752 km</td>\n",
       "      <td>NaN</td>\n",
       "    </tr>\n",
       "    <tr>\n",
       "      <th>Mass:</th>\n",
       "      <td>6.39 × 10^23 kg (0.11 Earths)</td>\n",
       "      <td>NaN</td>\n",
       "    </tr>\n",
       "    <tr>\n",
       "      <th>Moons:</th>\n",
       "      <td>2 ( Phobos &amp; Deimos )</td>\n",
       "      <td>NaN</td>\n",
       "    </tr>\n",
       "    <tr>\n",
       "      <th>Orbit Distance:</th>\n",
       "      <td>227,943,824 km (1.38 AU)</td>\n",
       "      <td>NaN</td>\n",
       "    </tr>\n",
       "    <tr>\n",
       "      <th>Orbit Period:</th>\n",
       "      <td>687 days (1.9 years)</td>\n",
       "      <td>NaN</td>\n",
       "    </tr>\n",
       "    <tr>\n",
       "      <th>Surface Temperature:</th>\n",
       "      <td>-87 to -5 °C</td>\n",
       "      <td>NaN</td>\n",
       "    </tr>\n",
       "    <tr>\n",
       "      <th>First Record:</th>\n",
       "      <td>2nd millennium BC</td>\n",
       "      <td>NaN</td>\n",
       "    </tr>\n",
       "    <tr>\n",
       "      <th>Recorded By:</th>\n",
       "      <td>Egyptian astronomers</td>\n",
       "      <td>NaN</td>\n",
       "    </tr>\n",
       "  </tbody>\n",
       "</table>\n",
       "</div>"
      ],
      "text/plain": [
       "0                                                 Mars            Earth\n",
       "Mars - Earth Comparison                                                \n",
       "Diameter:                                     6,779 km        12,742 km\n",
       "Mass:                                  6.39 × 10^23 kg  5.97 × 10^24 kg\n",
       "Moons:                                               2                1\n",
       "Distance from Sun:                      227,943,824 km   149,598,262 km\n",
       "Length of Year:                         687 Earth days      365.24 days\n",
       "Temperature:                              -87 to -5 °C      -88 to 58°C\n",
       "Polar Diameter:                               6,752 km              NaN\n",
       "Mass:                    6.39 × 10^23 kg (0.11 Earths)              NaN\n",
       "Moons:                           2 ( Phobos & Deimos )              NaN\n",
       "Orbit Distance:               227,943,824 km (1.38 AU)              NaN\n",
       "Orbit Period:                     687 days (1.9 years)              NaN\n",
       "Surface Temperature:                      -87 to -5 °C              NaN\n",
       "First Record:                        2nd millennium BC              NaN\n",
       "Recorded By:                      Egyptian astronomers              NaN"
      ]
     },
     "execution_count": 8,
     "metadata": {},
     "output_type": "execute_result"
    }
   ],
   "source": [
    "#Mars Facts\n",
    "url3 = \"https://galaxyfacts-mars.com/\"\n",
    "mars_df = pd.read_html(url3)\n",
    "info = mars_df[0]\n",
    "info = info.append(mars_df[1])\n",
    "info.columns= info.iloc[0]\n",
    "info = info.drop(0)\n",
    "info.set_index(\"Mars - Earth Comparison\", inplace=True)\n",
    "info_html= info.to_html()\n",
    "info"
   ]
  },
  {
   "cell_type": "code",
   "execution_count": 9,
   "id": "11c6b56a",
   "metadata": {},
   "outputs": [],
   "source": [
    "#Mars Hempisphere\n",
    "url4 = \"https://marshemispheres.com/\"\n",
    "html = requests.get(url4)\n",
    "soup4 = bs(html.text,\"html.parser\")"
   ]
  },
  {
   "cell_type": "code",
   "execution_count": 10,
   "id": "6e5a98ec",
   "metadata": {},
   "outputs": [],
   "source": [
    "hemi_img = soup4.find_all('div', {\"class\":[\"description\",'itemLink product-item']})"
   ]
  },
  {
   "cell_type": "code",
   "execution_count": 11,
   "id": "16f90de0",
   "metadata": {},
   "outputs": [
    {
     "data": {
      "text/plain": [
       "[{'title': 'Cerberus Hemisphere Enhanced',\n",
       "  'img_url': 'https://marshemispheres.com/images/f5e372a36edfa389625da6d0cc25d905_cerberus_enhanced.tif_full.jpg'},\n",
       " {'title': 'Schiaparelli Hemisphere Enhanced',\n",
       "  'img_url': 'https://marshemispheres.com/images/3778f7b43bbbc89d6e3cfabb3613ba93_schiaparelli_enhanced.tif_full.jpg'},\n",
       " {'title': 'Syrtis Major Hemisphere Enhanced',\n",
       "  'img_url': 'https://marshemispheres.com/images/555e6403a6ddd7ba16ddb0e471cadcf7_syrtis_major_enhanced.tif_full.jpg'},\n",
       " {'title': 'Valles Marineris Hemisphere Enhanced',\n",
       "  'img_url': 'https://marshemispheres.com/images/b3c7c6c9138f57b4756be9b9c43e3a48_valles_marineris_enhanced.tif_full.jpg'}]"
      ]
     },
     "execution_count": 11,
     "metadata": {},
     "output_type": "execute_result"
    }
   ],
   "source": [
    "hemisphere_image_urls = []\n",
    "img_hold = []\n",
    "hemi_img = soup4.find_all('div', {\"class\":[\"description\",'itemLink product-item']})\n",
    "for j in hemi_img:\n",
    "    k = j.find('a',href=True)\n",
    "    img_hold.append(k['href'])\n",
    "hemi_title = soup4.find_all('h3')\n",
    "for i in range(len(hemi_img)):\n",
    "    hold = {}\n",
    "    hold['title'] = hemi_title[i].text.strip()\n",
    "    urlh = url4+img_hold[i]\n",
    "    html = requests.get(urlh)\n",
    "    souph = bs(html.text,\"html.parser\")\n",
    "    img_dl= (souph.find('img', class_='wide-image')).get('src')\n",
    "    hold['img_url']= url4+img_dl\n",
    "    hemisphere_image_urls.append(hold)\n",
    "    \n",
    "hemisphere_image_urls"
   ]
  }
 ],
 "metadata": {
  "kernelspec": {
   "display_name": "Python 3",
   "language": "python",
   "name": "python3"
  },
  "language_info": {
   "codemirror_mode": {
    "name": "ipython",
    "version": 3
   },
   "file_extension": ".py",
   "mimetype": "text/x-python",
   "name": "python",
   "nbconvert_exporter": "python",
   "pygments_lexer": "ipython3",
   "version": "3.7.9"
  }
 },
 "nbformat": 4,
 "nbformat_minor": 5
}
